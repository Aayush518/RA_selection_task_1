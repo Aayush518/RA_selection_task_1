{
 "cells": [
  {
   "cell_type": "markdown",
   "metadata": {},
   "source": [
    "# Install required libraries\n",
    "This cell ensures that all necessary Python packages for medical image processing and visualization are installed. `nibabel` is used for reading and writing medical imaging data in NIfTI format, and `scikit-image` provides advanced image processing tools."
   ]
  },
  {
   "cell_type": "code",
   "execution_count": null,
   "metadata": {
    "execution": {
     "iopub.execute_input": "2025-05-22T16:22:42.688242Z",
     "iopub.status.busy": "2025-05-22T16:22:42.687948Z",
     "iopub.status.idle": "2025-05-22T16:22:46.500179Z",
     "shell.execute_reply": "2025-05-22T16:22:46.499495Z",
     "shell.execute_reply.started": "2025-05-22T16:22:42.688221Z"
    },
    "trusted": true
   },
   "outputs": [],
   "source": [
    "!pip install nibabel scikit-image"
   ]
  },
  {
   "cell_type": "markdown",
   "metadata": {},
   "source": [
    "## Importing Required Libraries\n",
    "In this cell, we import all the essential Python libraries that will be used throughout the notebook. Each library serves a specific purpose in the medical image analysis workflow:\n",
    "\n",
    "- `logging`: For structured logging of progress, errors, and key events, which is crucial for debugging and reproducibility in research code.\n",
    "- `os`: To handle file and directory operations, such as creating output folders and checking file existence.\n",
    "- `time`: For measuring execution time of various steps, which is important for performance profiling.\n",
    "- `numpy`: The fundamental package for numerical computation in Python, used here for array operations on image data.\n",
    "- `nibabel`: Specialized for reading and writing medical imaging data in NIfTI format, which is standard in neuroimaging and many other medical imaging fields.\n",
    "- `matplotlib.pyplot`: For visualizing images, histograms, and segmentation results, which is essential for both qualitative and quantitative analysis.\n",
    "- `scipy.ndimage`: Provides advanced image processing functions, such as morphological operations and labeling connected components, which are key for segmentation and mask refinement.\n",
    "- `skimage.filters`: Used for image filtering and thresholding, including Otsu's method for automatic threshold selection.\n",
    "\n",
    "By importing these libraries at the start, we ensure that all subsequent code cells have access to the necessary tools for data loading, processing, analysis, and visualization."
   ]
  },
  {
   "cell_type": "code",
   "execution_count": null,
   "metadata": {
    "execution": {
     "iopub.execute_input": "2025-05-22T16:22:46.502358Z",
     "iopub.status.busy": "2025-05-22T16:22:46.502114Z",
     "iopub.status.idle": "2025-05-22T16:22:46.509504Z",
     "shell.execute_reply": "2025-05-22T16:22:46.508848Z",
     "shell.execute_reply.started": "2025-05-22T16:22:46.502334Z"
    },
    "trusted": true
   },
   "outputs": [],
   "source": [
    "import logging\n",
    "import os\n",
    "import time\n",
    "import numpy as np\n",
    "import nibabel as nib\n",
    "import matplotlib.pyplot as plt\n",
    "from scipy.ndimage import distance_transform_edt, label, binary_closing, binary_opening\n",
    "from skimage.filters import threshold_otsu, gaussian"
   ]
  },
  {
   "cell_type": "markdown",
   "metadata": {},
   "source": [
    "## Configure Logging for the Notebook\n",
    "This cell sets up the logging configuration for the entire notebook. Logging is a best practice in research and production code because it allows you to track the progress of your workflow, capture important events, and debug issues efficiently.\n",
    "\n",
    "- The logging level is set to `INFO`, which means that informational messages, warnings, and errors will be displayed.\n",
    "- The log format includes the timestamp, log level, and message, making it easy to trace events chronologically.\n",
    "- The log messages will be output to the standard stream (console), so you can monitor progress in real time.\n",
    "\n",
    "This setup is especially useful for long-running or complex pipelines, as it helps you understand what the code is doing at each step and quickly identify where things might go wrong."
   ]
  },
  {
   "cell_type": "code",
   "execution_count": null,
   "metadata": {
    "execution": {
     "iopub.execute_input": "2025-05-22T16:22:46.510478Z",
     "iopub.status.busy": "2025-05-22T16:22:46.510210Z",
     "iopub.status.idle": "2025-05-22T16:22:46.529634Z",
     "shell.execute_reply": "2025-05-22T16:22:46.529063Z",
     "shell.execute_reply.started": "2025-05-22T16:22:46.510460Z"
    },
    "trusted": true
   },
   "outputs": [],
   "source": [
    "logging.basicConfig(\n",
    "    level=logging.INFO,\n",
    "    format='%(asctime)s - %(levelname)s - %(message)s',\n",
    "    handlers=[logging.StreamHandler()]\n",
    ")"
   ]
  },
  {
   "cell_type": "markdown",
   "metadata": {},
   "source": [
    "## Create Output Directory for Results\n",
    "This cell creates a directory where all output files, such as generated images and segmentation masks, will be saved.\n",
    "\n",
    "- `RESULTS_DIR` is set to a specific path where results will be stored.\n",
    "- `os.makedirs` ensures that the directory exists, creating it if necessary.\n",
    "- A log message confirms the creation of the directory.\n",
    "\n",
    "Organizing outputs in a dedicated directory is important for reproducibility and for keeping your workspace tidy, especially when running multiple experiments or sharing results with collaborators."
   ]
  },
  {
   "cell_type": "code",
   "execution_count": null,
   "metadata": {
    "execution": {
     "iopub.execute_input": "2025-05-22T16:22:46.530515Z",
     "iopub.status.busy": "2025-05-22T16:22:46.530309Z",
     "iopub.status.idle": "2025-05-22T16:22:46.546157Z",
     "shell.execute_reply": "2025-05-22T16:22:46.545675Z",
     "shell.execute_reply.started": "2025-05-22T16:22:46.530499Z"
    },
    "trusted": true
   },
   "outputs": [],
   "source": [
    "RESULTS_DIR = '/kaggle/working/results'\n",
    "os.makedirs(RESULTS_DIR, exist_ok=True)\n",
    "logging.info(f\"Created output directory: {RESULTS_DIR}\")"
   ]
  },
  {
   "cell_type": "markdown",
   "metadata": {},
   "source": [
    "## Verify scikit-image Version\n",
    "This cell checks and logs the version of the `scikit-image` library being used.\n",
    "\n",
    "- Ensuring the correct version of a library is important for reproducibility, as different versions may have different features or behaviors.\n",
    "- Logging the version helps future users (or reviewers) of this notebook understand the software environment, which is critical for replicating results.\n",
    "\n",
    "This is a good practice in any research or production code, especially when using open-source libraries that evolve over time."
   ]
  },
  {
   "cell_type": "code",
   "execution_count": null,
   "metadata": {
    "_cell_guid": "b1076dfc-b9ad-4769-8c92-a6c4dae69d19",
    "_uuid": "8f2839f25d086af736a60e9eeb907d3b93b6e0e5",
    "execution": {
     "iopub.execute_input": "2025-05-22T16:22:46.547997Z",
     "iopub.status.busy": "2025-05-22T16:22:46.547803Z",
     "iopub.status.idle": "2025-05-22T16:22:46.562844Z",
     "shell.execute_reply": "2025-05-22T16:22:46.562280Z",
     "shell.execute_reply.started": "2025-05-22T16:22:46.547982Z"
    },
    "trusted": true
   },
   "outputs": [],
   "source": [
    "import skimage\n",
    "logging.info(f\"scikit-image version: {skimage.__version__}\")"
   ]
  },
  {
   "cell_type": "code",
   "execution_count": null,
   "metadata": {
    "execution": {
     "iopub.execute_input": "2025-05-22T16:22:46.564516Z",
     "iopub.status.busy": "2025-05-22T16:22:46.563809Z",
     "iopub.status.idle": "2025-05-22T16:22:54.422617Z",
     "shell.execute_reply": "2025-05-22T16:22:54.421907Z",
     "shell.execute_reply.started": "2025-05-22T16:22:46.564493Z"
    },
    "trusted": true
   },
   "outputs": [],
   "source": [
    "def analyze_ct_data(input_path: str = '/kaggle/input/ra-selection-1-data/3702_left_knee.nii') -> None:\n",
    "    \"\"\"\n",
    "    Analyze the CT scan's properties, visualize histograms, show slices, and basic statistics.\n",
    "    \"\"\"\n",
    "    start_time = time.time()\n",
    "    logging.info(\"Starting CT data analysis\")\n",
    "\n",
    "    try:\n",
    "        # Check input file\n",
    "        if not os.path.exists(input_path):\n",
    "            error_msg = (\n",
    "                f\"CT scan not found at {input_path}. Verify with '!ls /kaggle/input/' and update path.\"\n",
    "            )\n",
    "            logging.error(error_msg)\n",
    "            raise FileNotFoundError(error_msg)\n",
    "\n",
    "        # Load CT scan\n",
    "        ct_image = nib.load(input_path)\n",
    "        ct_data = ct_image.get_fdata().astype(np.float32)\n",
    "        header = ct_image.header\n",
    "\n",
    "        # Log properties\n",
    "        logging.info(f\"CT shape: {ct_data.shape}\")\n",
    "        logging.info(f\"Voxel sizes (mm): {header.get_zooms()}\")\n",
    "        logging.info(f\"Intensity range: {ct_data.min():.2f} to {ct_data.max():.2f} HU\")\n",
    "\n",
    "        # Compute overall stats\n",
    "        logging.info(f\"Mean (all voxels): {ct_data.mean():.2f}\")\n",
    "        logging.info(f\"Median (all voxels): {np.median(ct_data):.2f}\")\n",
    "        logging.info(f\"Std dev (all voxels): {ct_data.std():.2f}\")\n",
    "\n",
    "        # Histogram: all voxels\n",
    "        plt.figure(figsize=(8, 5))\n",
    "        plt.hist(ct_data.ravel(), bins=100, range=(-1000, 3000), density=True)\n",
    "        plt.title(\"CT Intensity Histogram (All Voxels)\")\n",
    "        plt.xlabel(\"Hounsfield Units (HU)\")\n",
    "        plt.ylabel(\"Density\")\n",
    "        output_path_all = os.path.join(RESULTS_DIR, 'ct_histogram_all.png')\n",
    "        plt.savefig(output_path_all)\n",
    "        plt.show()\n",
    "        logging.info(f\"Saved histogram (all voxels): {output_path_all}\")\n",
    "\n",
    "        # Exclude air for tissue & bone view\n",
    "        air_threshold = -900\n",
    "        tissue_mask = ct_data > air_threshold\n",
    "        tissue_data = ct_data[tissue_mask]\n",
    "        logging.info(f\"Non-air voxels: {tissue_data.size}/{ct_data.size} ({100.0 * tissue_data.size / ct_data.size:.2f}%)\")\n",
    "        logging.info(f\"Mean (tissue+bone): {tissue_data.mean():.2f}\")\n",
    "        logging.info(f\"Median (tissue+bone): {np.median(tissue_data):.2f}\")\n",
    "        logging.info(f\"Std dev (tissue+bone): {tissue_data.std():.2f}\")\n",
    "\n",
    "        plt.figure(figsize=(8, 5))\n",
    "        plt.hist(\n",
    "            tissue_data.ravel(),\n",
    "            bins=100,\n",
    "            range=(-200, 2000),\n",
    "            density=True\n",
    "        )\n",
    "        plt.title(\"CT Intensity Histogram (Tissue & Bone, Air Excluded)\")\n",
    "        plt.xlabel(\"Hounsfield Units (HU)\")\n",
    "        plt.ylabel(\"Density\")\n",
    "        output_path_zoom = os.path.join(RESULTS_DIR, 'ct_histogram_tissue_bone.png')\n",
    "        plt.savefig(output_path_zoom)\n",
    "        plt.show()\n",
    "        logging.info(f\"Saved tissue/bone-focused histogram: {output_path_zoom}\")\n",
    "\n",
    "        # Show a few axial slices\n",
    "        num_slices = 5\n",
    "        z_indices = np.linspace(0, ct_data.shape[2] - 1, num=num_slices, dtype=int)\n",
    "        plt.figure(figsize=(15, 5))\n",
    "        for i, z in enumerate(z_indices):\n",
    "            plt.subplot(1, num_slices, i + 1)\n",
    "            plt.imshow(ct_data[:, :, z], cmap='gray', vmin=-200, vmax=1000)\n",
    "            plt.title(f\"Slice {z}\")\n",
    "            plt.axis('off')\n",
    "        plt.suptitle(\"Sample CT Slices (Soft Tissue Window)\")\n",
    "        output_path_slices = os.path.join(RESULTS_DIR, 'ct_slices.png')\n",
    "        plt.savefig(output_path_slices)\n",
    "        plt.show()\n",
    "        logging.info(f\"Saved sample slices: {output_path_slices}\")\n",
    "\n",
    "        # (Optional) Show one coronal and one sagittal slice\n",
    "        mid_x = ct_data.shape[0] // 2\n",
    "        mid_y = ct_data.shape[1] // 2\n",
    "        plt.figure(figsize=(10, 4))\n",
    "        plt.subplot(1, 2, 1)\n",
    "        plt.imshow(ct_data[mid_x, :, :], cmap='gray', vmin=-200, vmax=1000)\n",
    "        plt.title('Coronal view (Y-Z)')\n",
    "        plt.axis('off')\n",
    "        plt.subplot(1, 2, 2)\n",
    "        plt.imshow(ct_data[:, mid_y, :], cmap='gray', vmin=-200, vmax=1000)\n",
    "        plt.title('Sagittal view (X-Z)')\n",
    "        plt.axis('off')\n",
    "        plt.suptitle(\"Middle Coronal & Sagittal Slices\")\n",
    "        output_path_planes = os.path.join(RESULTS_DIR, 'ct_middle_planes.png')\n",
    "        plt.savefig(output_path_planes)\n",
    "        plt.show()\n",
    "        logging.info(f\"Saved coronal/sagittal slices: {output_path_planes}\")\n",
    "\n",
    "        logging.info(f\"CT analysis completed in {time.time() - start_time:.2f} seconds\")\n",
    "\n",
    "    except Exception as e:\n",
    "        logging.error(f\"Failed to analyze CT: {e}\")\n",
    "        raise\n",
    "\n",
    "# Path to your CT scan file (update if needed)\n",
    "INPUT_PATH = '/kaggle/input/ra-selection-1-data/3702_left_knee.nii'\n",
    "analyze_ct_data(INPUT_PATH)"
   ]
  },
  {
   "cell_type": "markdown",
   "metadata": {},
   "source": [
    "## Overlay Segmentation on Axial Slices\n",
    "This cell defines a function to overlay segmentation results on selected axial slices of the CT scan. Visualizing the segmentation over the original image is a key step in validating the quality of the segmentation and ensuring that the algorithm is correctly identifying anatomical structures.\n",
    "\n",
    "The function takes the CT data, the segmentation mask, and a list of slice indices, and displays each slice with the segmentation overlaid in color. This allows for quick, qualitative assessment of segmentation performance across different regions of the scan.\n",
    "\n",
    "Such visualizations are essential in both research and clinical workflows to build trust in automated methods and to identify potential failure cases."
   ]
  },
  {
   "cell_type": "code",
   "execution_count": null,
   "metadata": {
    "execution": {
     "iopub.execute_input": "2025-05-22T16:22:54.423624Z",
     "iopub.status.busy": "2025-05-22T16:22:54.423331Z",
     "iopub.status.idle": "2025-05-22T16:22:55.021602Z",
     "shell.execute_reply": "2025-05-22T16:22:55.020810Z",
     "shell.execute_reply.started": "2025-05-22T16:22:54.423597Z"
    },
    "trusted": true
   },
   "outputs": [],
   "source": [
    "def overlay_segmentation_on_axial(ct_data, segmentation, z_indices):\n",
    "    plt.figure(figsize=(18, 4))\n",
    "    for i, z in enumerate(z_indices):\n",
    "        plt.subplot(1, len(z_indices), i+1)\n",
    "        plt.imshow(ct_data[:, :, z], cmap='gray', vmin=-200, vmax=1000)\n",
    "        plt.imshow(segmentation[:, :, z], cmap='tab10', alpha=0.4, vmin=0, vmax=2)\n",
    "        plt.title(f\"Slice z={z}\")\n",
    "        plt.axis('off')\n",
    "    plt.tight_layout()\n",
    "    plt.show()\n",
    "\n",
    "# Use this with the segmentation from your mask function\n",
    "num_slices = 5\n",
    "z_indices = np.linspace(0, ct_processed.shape[2] - 1, num=num_slices, dtype=int)\n",
    "overlay_segmentation_on_axial(ct_processed, segmentation, z_indices)\n"
   ]
  },
  {
   "cell_type": "markdown",
   "metadata": {},
   "source": [
    "## Analyze CT Data: Properties, Histograms, and Slices\n",
    "This cell defines and runs a function to perform an initial analysis of the CT scan. The function loads the CT data, checks for file existence, and extracts key properties such as shape, voxel size, and intensity range. It also computes basic statistics (mean, median, standard deviation) for the entire scan and for tissue/bone only (excluding air).\n",
    "\n",
    "The function visualizes the intensity distribution with histograms, both for all voxels and for tissue/bone only, which helps in understanding the data and setting thresholds for segmentation. It also displays several representative axial slices, as well as coronal and sagittal views, to give a qualitative sense of the scan's content and quality.\n",
    "\n",
    "This step is crucial for: (1) verifying that the data is loaded correctly, (2) understanding the intensity characteristics for later segmentation, and (3) providing visual and quantitative context for downstream processing."
   ]
  },
  {
   "cell_type": "code",
   "execution_count": null,
   "metadata": {
    "execution": {
     "iopub.execute_input": "2025-05-22T16:22:55.022847Z",
     "iopub.status.busy": "2025-05-22T16:22:55.022631Z",
     "iopub.status.idle": "2025-05-22T16:22:55.030260Z",
     "shell.execute_reply": "2025-05-22T16:22:55.029530Z",
     "shell.execute_reply.started": "2025-05-22T16:22:55.022831Z"
    },
    "trusted": true
   },
   "outputs": [],
   "source": [
    "import os\n",
    "import time\n",
    "import nibabel as nib\n",
    "import numpy as np\n",
    "import matplotlib.pyplot as plt\n",
    "\n",
    "def load_ct(input_path: str = '/kaggle/input/ct-scan/ct_scan.nii.gz') -> tuple[np.ndarray, np.ndarray, nib.Nifti1Header, nib.Nifti1Image]:\n",
    "    \"\"\"\n",
    "    Load a 3D CT scan from file, visualize a mid-slice, and return data, affine, and header.\n",
    "\n",
    "    Args:\n",
    "        input_path (str): Path to the CT scan file.\n",
    "\n",
    "    Returns:\n",
    "        tuple: (CT data as numpy array, affine matrix, NIfTI header, nib image object).\n",
    "\n",
    "    Raises:\n",
    "        FileNotFoundError: If the input file is not found.\n",
    "        RuntimeError: If loading the NIfTI file fails.\n",
    "    \"\"\"\n",
    "    start_time = time.time()\n",
    "    logging.info(f\"Loading CT from {input_path}\")\n",
    "\n",
    "    try:\n",
    "        if not os.path.exists(input_path):\n",
    "            error_msg = (\n",
    "                f\"CT scan not found at {input_path}. Verify with '!ls /kaggle/input/' and update path.\"\n",
    "            )\n",
    "            logging.error(error_msg)\n",
    "            raise FileNotFoundError(error_msg)\n",
    "\n",
    "        ct_image = nib.load(input_path)\n",
    "        ct_data = ct_image.get_fdata().astype(np.float32)\n",
    "        affine = ct_image.affine\n",
    "        header = ct_image.header\n",
    "        logging.info(f\"CT shape: {ct_data.shape}, voxel sizes: {header.get_zooms()}\")\n",
    "        logging.info(f\"Intensity range: {ct_data.min():.2f} to {ct_data.max():.2f} HU\")\n",
    "        logging.info(f\"Loading completed in {time.time() - start_time:.2f} seconds\")\n",
    "\n",
    "        # Visualize a sample slice (soft tissue window for clarity)\n",
    "        slice_idx = ct_data.shape[2] // 2\n",
    "        plt.figure(figsize=(6, 6))\n",
    "        plt.imshow(ct_data[:, :, slice_idx], cmap='gray', vmin=-200, vmax=1000)\n",
    "        plt.title(f\"Mid CT Slice (z={slice_idx}, window -200 to 1000 HU)\")\n",
    "        plt.axis('off')\n",
    "        output_path = os.path.join(RESULTS_DIR, 'raw_ct_slice.png')\n",
    "        plt.savefig(output_path)\n",
    "        logging.info(f\"Saved raw CT slice: {output_path}\")\n",
    "        plt.show()\n",
    "\n",
    "        return ct_data, affine, header, ct_image\n",
    "\n",
    "    except Exception as e:\n",
    "        logging.error(f\"Failed to load CT: {e}\")\n",
    "        raise\n",
    "\n"
   ]
  },
  {
   "cell_type": "code",
   "execution_count": null,
   "metadata": {
    "execution": {
     "iopub.execute_input": "2025-05-22T16:22:55.031322Z",
     "iopub.status.busy": "2025-05-22T16:22:55.031103Z",
     "iopub.status.idle": "2025-05-22T16:22:55.613832Z",
     "shell.execute_reply": "2025-05-22T16:22:55.612987Z",
     "shell.execute_reply.started": "2025-05-22T16:22:55.031298Z"
    },
    "trusted": true
   },
   "outputs": [],
   "source": [
    "ct_data, affine, header, ct_image = load_ct(INPUT_PATH)\n"
   ]
  },
  {
   "cell_type": "code",
   "execution_count": null,
   "metadata": {
    "execution": {
     "iopub.execute_input": "2025-05-22T16:22:55.614812Z",
     "iopub.status.busy": "2025-05-22T16:22:55.614592Z",
     "iopub.status.idle": "2025-05-22T16:22:55.621248Z",
     "shell.execute_reply": "2025-05-22T16:22:55.620579Z",
     "shell.execute_reply.started": "2025-05-22T16:22:55.614797Z"
    },
    "trusted": true
   },
   "outputs": [],
   "source": [
    "from scipy.ndimage import gaussian_filter\n",
    "\n",
    "def preprocess_ct(ct_data: np.ndarray, sigma: float = 1.0) -> np.ndarray:\n",
    "    \"\"\"\n",
    "    Preprocess CT data: window, smooth with Gaussian filter to reduce noise.\n",
    "\n",
    "    Args:\n",
    "        ct_data (np.ndarray): 3D CT volume in HU.\n",
    "        sigma (float): Standard deviation for Gaussian filter.\n",
    "\n",
    "    Returns:\n",
    "        np.ndarray: Preprocessed (smoothed, windowed) CT volume in HU.\n",
    "\n",
    "    Raises:\n",
    "        ValueError: If ct_data is not 3D.\n",
    "    \"\"\"\n",
    "    start_time = time.time()\n",
    "    logging.info(\"Starting preprocessing\")\n",
    "\n",
    "    try:\n",
    "        if ct_data.ndim != 3:\n",
    "            raise ValueError(\"Expected 3D CT volume\")\n",
    "\n",
    "        # 1. Window to -200 (fat) to 2000 (bone)\n",
    "        ct_windowed = np.clip(ct_data, -200, 2000)\n",
    "        # 2. Denoise\n",
    "        ct_denoised = gaussian_filter(ct_windowed, sigma=sigma)\n",
    "        logging.info(f\"Preprocessing completed in {time.time() - start_time:.2f} seconds\")\n",
    "        logging.info(f\"Denoised intensity range: {ct_denoised.min():.2f} to {ct_denoised.max():.2f}\")\n",
    "\n",
    "        # 3. Visualize a denoised slice (soft tissue window)\n",
    "        slice_idx = ct_data.shape[2] // 2\n",
    "        plt.figure(figsize=(6, 6))\n",
    "        plt.imshow(ct_denoised[:, :, slice_idx], cmap='gray', vmin=-200, vmax=1000)\n",
    "        plt.title(f\"Denoised CT Slice (z={slice_idx}, window -200 to 1000 HU)\")\n",
    "        plt.axis('off')\n",
    "        output_path = os.path.join(RESULTS_DIR, 'denoised_ct_slice.png')\n",
    "        plt.savefig(output_path)\n",
    "        logging.info(f\"Saved denoised CT slice: {output_path}\")\n",
    "        plt.show()\n",
    "\n",
    "        return ct_denoised\n",
    "\n",
    "    except Exception as e:\n",
    "        logging.error(f\"Preprocessing failed: {e}\")\n",
    "        raise\n",
    "\n"
   ]
  },
  {
   "cell_type": "code",
   "execution_count": null,
   "metadata": {
    "execution": {
     "iopub.execute_input": "2025-05-22T16:22:55.622498Z",
     "iopub.status.busy": "2025-05-22T16:22:55.622244Z",
     "iopub.status.idle": "2025-05-22T16:22:57.316600Z",
     "shell.execute_reply": "2025-05-22T16:22:57.315839Z",
     "shell.execute_reply.started": "2025-05-22T16:22:55.622482Z"
    },
    "trusted": true
   },
   "outputs": [],
   "source": [
    "ct_processed = preprocess_ct(ct_data)\n"
   ]
  },
  {
   "cell_type": "markdown",
   "metadata": {},
   "source": [
    "### Bone Thresholding and Initial Segmentation\n",
    "The `threshold_bones` function performs the initial bone segmentation:\n",
    "- Uses Otsu's method to automatically determine the optimal threshold\n",
    "- Applies morphological operations to clean up the segmentation\n",
    "- Identifies and labels individual bone components\n",
    "- Handles the fibula as an optional third label\n",
    "- Saves the segmentation results in NIfTI format"
   ]
  },
  {
   "cell_type": "code",
   "execution_count": null,
   "metadata": {
    "execution": {
     "iopub.execute_input": "2025-05-22T16:22:57.317658Z",
     "iopub.status.busy": "2025-05-22T16:22:57.317431Z",
     "iopub.status.idle": "2025-05-22T16:22:57.329568Z",
     "shell.execute_reply": "2025-05-22T16:22:57.328800Z",
     "shell.execute_reply.started": "2025-05-22T16:22:57.317642Z"
    },
    "trusted": true
   },
   "outputs": [],
   "source": [
    "from scipy.ndimage import label, binary_opening, binary_closing, binary_fill_holes, center_of_mass\n",
    "import nibabel as nib\n",
    "import numpy as np\n",
    "import os\n",
    "import time\n",
    "import logging\n",
    "from skimage.filters import threshold_otsu\n",
    "import matplotlib.pyplot as plt\n",
    "\n",
    "def threshold_bones(\n",
    "    ct_data: np.ndarray,\n",
    "    affine=None,\n",
    "    header=None,\n",
    "    save_path=None,\n",
    "    visualize=True,\n",
    "    min_voxels=2000,\n",
    "    assign_fibula=False\n",
    ") -> np.ndarray:\n",
    "    \"\"\"\n",
    "    Segment femur and tibia from preprocessed 3D CT.\n",
    "    - Robust to small bone fragments (fibula, patella).\n",
    "    - Optionally assigns fibula as label=3.\n",
    "    - Returns: segmentation (1=femur, 2=tibia, 3=fibula if enabled, 0=background)\n",
    "    \"\"\"\n",
    "    start_time = time.time()\n",
    "    logging.info(\"Starting femur/tibia segmentation (robust)\")\n",
    "\n",
    "    try:\n",
    "        if ct_data.ndim != 3:\n",
    "            raise ValueError(\"Expected 3D CT volume\")\n",
    "\n",
    "        # Step 1: Bone threshold (Otsu, or override if you want to use HU > 200)\n",
    "        otsu_thresh = threshold_otsu(ct_data)\n",
    "        bone_threshold = otsu_thresh * 0.9\n",
    "        bone_mask = (ct_data > bone_threshold)\n",
    "\n",
    "        # Step 2: Morphological cleaning\n",
    "        bone_mask = binary_closing(bone_mask, iterations=3)\n",
    "        bone_mask = binary_opening(bone_mask, iterations=3)\n",
    "        bone_mask = binary_fill_holes(bone_mask)\n",
    "\n",
    "        # Step 3: Label all connected regions\n",
    "        labeled_mask, num_features = label(bone_mask)\n",
    "        logging.info(f\"Found {num_features} connected bone regions\")\n",
    "\n",
    "        # Step 4: Remove tiny components (keep only large enough to be real bones)\n",
    "        region_info = []\n",
    "        for i in range(1, num_features + 1):\n",
    "            region = (labeled_mask == i)\n",
    "            size = np.sum(region)\n",
    "            if size < min_voxels:\n",
    "                continue  # Skip tiny noise, possible patella/fibula specks\n",
    "            centroid = center_of_mass(region)\n",
    "            region_info.append({'label': i, 'size': size, 'centroid': centroid})\n",
    "\n",
    "        if len(region_info) < 2:\n",
    "            logging.warning(\"Less than 2 large components. Only largest is labeled as femur.\")\n",
    "            segmentation = (labeled_mask > 0).astype(np.uint8)\n",
    "            if save_path and affine is not None and header is not None:\n",
    "                nib.save(nib.Nifti1Image(segmentation, affine, header), save_path)\n",
    "            return segmentation\n",
    "\n",
    "        # Step 5: Sort by size, then vertical position (Y centroid)\n",
    "        region_info.sort(key=lambda x: x['size'], reverse=True)\n",
    "        largest_regions = region_info[:3] if assign_fibula and len(region_info) >= 3 else region_info[:2]\n",
    "\n",
    "        # Assign labels based on centroid vertical (Y axis)\n",
    "        # Create (idx, y-centroid) list, femur = highest (smallest Y), tibia = next\n",
    "        largest_regions.sort(key=lambda x: x['centroid'][1])\n",
    "        femur_label = largest_regions[0]['label']\n",
    "        tibia_label = largest_regions[1]['label']\n",
    "        fibula_label = largest_regions[2]['label'] if assign_fibula and len(largest_regions) == 3 else None\n",
    "\n",
    "        # Step 6: Build output segmentation\n",
    "        segmentation = np.zeros_like(labeled_mask, dtype=np.uint8)\n",
    "        segmentation[labeled_mask == femur_label] = 1\n",
    "        segmentation[labeled_mask == tibia_label] = 2\n",
    "        if assign_fibula and fibula_label is not None:\n",
    "            segmentation[labeled_mask == fibula_label] = 3\n",
    "\n",
    "        # Step 7: Save NIfTI if requested\n",
    "        if save_path and affine is not None and header is not None:\n",
    "            seg_img = nib.Nifti1Image(segmentation, affine, header)\n",
    "            nib.save(seg_img, save_path)\n",
    "            logging.info(f\"Saved segmentation to {save_path}\")\n",
    "\n",
    "        # Step 8: Visualization (optionally overlay masks for multiple slices)\n",
    "        if visualize:\n",
    "            mid_slice = ct_data.shape[2] // 2\n",
    "            plt.figure(figsize=(14, 5))\n",
    "            plt.subplot(1, 2, 1)\n",
    "            plt.imshow(ct_data[:, :, mid_slice], cmap='gray', vmin=-200, vmax=1000)\n",
    "            plt.title(f\"CT Slice z={mid_slice}\")\n",
    "            plt.axis('off')\n",
    "            plt.subplot(1, 2, 2)\n",
    "            plt.imshow(segmentation[:, :, mid_slice], cmap='tab10', vmin=0, vmax=3)\n",
    "            plt.title(\"Segmented: 1=Femur, 2=Tibia\" + (\", 3=Fibula\" if assign_fibula else \"\"))\n",
    "            plt.axis('off')\n",
    "            plt.tight_layout()\n",
    "            plt.show()\n",
    "\n",
    "        logging.info(f\"Segmentation completed in {time.time() - start_time:.2f} seconds\")\n",
    "        return segmentation\n",
    "\n",
    "    except Exception as e:\n",
    "        logging.error(f\"Femur/tibia segmentation failed: {e}\")\n",
    "        raise\n"
   ]
  },
  {
   "cell_type": "code",
   "execution_count": null,
   "metadata": {
    "execution": {
     "iopub.execute_input": "2025-05-22T16:22:57.330634Z",
     "iopub.status.busy": "2025-05-22T16:22:57.330357Z",
     "iopub.status.idle": "2025-05-22T16:23:07.557271Z",
     "shell.execute_reply": "2025-05-22T16:23:07.556612Z",
     "shell.execute_reply.started": "2025-05-22T16:22:57.330610Z"
    },
    "trusted": true
   },
   "outputs": [],
   "source": [
    "bone_mask = threshold_bones(ct_processed)"
   ]
  },
  {
   "cell_type": "code",
   "execution_count": null,
   "metadata": {
    "execution": {
     "iopub.execute_input": "2025-05-22T16:23:07.560579Z",
     "iopub.status.busy": "2025-05-22T16:23:07.560356Z",
     "iopub.status.idle": "2025-05-22T16:23:19.017079Z",
     "shell.execute_reply": "2025-05-22T16:23:19.016360Z",
     "shell.execute_reply.started": "2025-05-22T16:23:07.560564Z"
    },
    "trusted": true
   },
   "outputs": [],
   "source": [
    "segmentation = threshold_bones(\n",
    "    ct_denoised, \n",
    "    affine, \n",
    "    header, \n",
    "    save_path=os.path.join(RESULTS_DIR, 'femur_tibia_segmentation.nii.gz'),\n",
    "    visualize=True,\n",
    "    min_voxels=2000,      # or adjust as needed\n",
    "    assign_fibula=True   # set True if you want to try labeling fibula\n",
    ")\n"
   ]
  },
  {
   "cell_type": "markdown",
   "metadata": {},
   "source": [
    "### Mask Refinement and Validation\n",
    "The mask refinement process includes several steps:\n",
    "1. Size-based filtering to remove noise and small artifacts\n",
    "2. Anatomical validation to ensure correct labeling of femur and tibia\n",
    "3. Optional fibula segmentation based on size and position\n",
    "4. Visualization of refined masks for quality control"
   ]
  },
  {
   "cell_type": "code",
   "execution_count": null,
   "metadata": {
    "execution": {
     "iopub.execute_input": "2025-05-22T16:23:19.017963Z",
     "iopub.status.busy": "2025-05-22T16:23:19.017762Z",
     "iopub.status.idle": "2025-05-22T16:23:49.422971Z",
     "shell.execute_reply": "2025-05-22T16:23:49.422422Z",
     "shell.execute_reply.started": "2025-05-22T16:23:19.017948Z"
    },
    "trusted": true
   },
   "outputs": [],
   "source": [
    "from scipy.ndimage import binary_closing, binary_opening, binary_fill_holes, label\n",
    "import numpy as np\n",
    "import logging\n",
    "\n",
    "def refine_mask(mask: np.ndarray, min_size: int = 1000, fill_holes: bool = True) -> np.ndarray:\n",
    "    \"\"\"\n",
    "    Refine a 3D binary mask: morphological cleaning, optional hole filling, size filtering.\n",
    "    \n",
    "    Args:\n",
    "        mask (np.ndarray): Binary mask to refine (should be 0/1 or 0/True).\n",
    "        min_size (int): Minimum component size (voxels) to keep.\n",
    "        fill_holes (bool): Whether to fill holes inside connected objects.\n",
    "\n",
    "    Returns:\n",
    "        np.ndarray: Refined mask (uint8).\n",
    "    \"\"\"\n",
    "    if mask.ndim != 3:\n",
    "        raise ValueError(\"Expected 3D mask\")\n",
    "\n",
    "    # Binarize, just in case\n",
    "    mask = (mask > 0).astype(np.uint8)\n",
    "\n",
    "    # Morphological closing (fills small gaps), opening (removes speckles)\n",
    "    struct = np.ones((3, 3, 3), dtype=np.uint8)\n",
    "    mask = binary_closing(mask, structure=struct, iterations=2).astype(np.uint8)\n",
    "    mask = binary_opening(mask, structure=struct, iterations=1).astype(np.uint8)\n",
    "\n",
    "    # Fill holes (optional, but helpful for bone)\n",
    "    if fill_holes:\n",
    "        mask = binary_fill_holes(mask).astype(np.uint8)\n",
    "\n",
    "    # Remove small connected components\n",
    "    labeled, num = label(mask)\n",
    "    sizes = np.bincount(labeled.ravel())\n",
    "    # sizes[0] is background, so ignore\n",
    "    remove_small = np.where(sizes >= min_size)[0]\n",
    "    remove_small = remove_small[remove_small != 0]  # remove background label\n",
    "    refined = np.isin(labeled, remove_small).astype(np.uint8)\n",
    "\n",
    "    logging.info(f\"Refined mask: {num} components found, kept {len(remove_small)} above {min_size} voxels.\")\n",
    "    return refined\n",
    "\n",
    "# Example usage:\n",
    "# If segmentation is a label map: 0=bg, 1=femur, 2=tibia, 3=fibula...\n",
    "# Extract binary masks:\n",
    "femur_mask = refine_mask((segmentation == 1), min_size=1000)\n",
    "tibia_mask = refine_mask((segmentation == 2), min_size=1000)\n",
    "fibula_mask = refine_mask((segmentation == 3), min_size=200)  # adjust as needed\n"
   ]
  },
  {
   "cell_type": "code",
   "execution_count": null,
   "metadata": {
    "execution": {
     "iopub.execute_input": "2025-05-22T16:23:49.424276Z",
     "iopub.status.busy": "2025-05-22T16:23:49.423719Z",
     "iopub.status.idle": "2025-05-22T16:24:20.275895Z",
     "shell.execute_reply": "2025-05-22T16:24:20.275174Z",
     "shell.execute_reply.started": "2025-05-22T16:23:49.424254Z"
    },
    "trusted": true
   },
   "outputs": [],
   "source": [
    "import matplotlib.pyplot as plt\n",
    "\n",
    "def display_refined_mask(ct_data, mask, z=None, title='Refined Mask Overlay', color='Reds'):\n",
    "    \"\"\"\n",
    "    Overlay a binary mask on a CT slice.\n",
    "    \"\"\"\n",
    "    if z is None:\n",
    "        z = ct_data.shape[2] // 2  # middle slice\n",
    "    plt.figure(figsize=(6, 6))\n",
    "    plt.imshow(ct_data[:, :, z], cmap='gray', vmin=-200, vmax=1000)\n",
    "    plt.imshow(mask[:, :, z], cmap=color, alpha=0.4)\n",
    "    plt.title(f\"{title} (z={z})\")\n",
    "    plt.axis('off')\n",
    "    plt.show()\n",
    "\n",
    "# Example usage after refining:\n",
    "femur_mask = refine_mask((segmentation == 1), min_size=1000)\n",
    "tibia_mask = refine_mask((segmentation == 2), min_size=1000)\n",
    "fibula_mask = refine_mask((segmentation == 3), min_size=200)\n",
    "\n",
    "display_refined_mask(ct_denoised, femur_mask, title='Refined Femur Mask', color='Reds')\n",
    "display_refined_mask(ct_denoised, tibia_mask, title='Refined Tibia Mask', color='Blues')\n",
    "display_refined_mask(ct_denoised, fibula_mask, title='Refined Fibula Mask', color='Greens')\n"
   ]
  },
  {
   "cell_type": "code",
   "execution_count": null,
   "metadata": {
    "execution": {
     "iopub.execute_input": "2025-05-22T16:24:20.277014Z",
     "iopub.status.busy": "2025-05-22T16:24:20.276792Z",
     "iopub.status.idle": "2025-05-22T16:24:20.509017Z",
     "shell.execute_reply": "2025-05-22T16:24:20.508411Z",
     "shell.execute_reply.started": "2025-05-22T16:24:20.276998Z"
    },
    "trusted": true
   },
   "outputs": [],
   "source": [
    "z = 108  # Or any other slice you want to inspect\n",
    "plt.figure(figsize=(6, 6))\n",
    "plt.imshow(ct_denoised[:, :, z], cmap='gray', vmin=-200, vmax=1000)\n",
    "plt.imshow(femur_mask[:, :, z], cmap='Reds', alpha=0.4)\n",
    "plt.imshow(tibia_mask[:, :, z], cmap='Blues', alpha=0.4)\n",
    "plt.imshow(fibula_mask[:, :, z], cmap='Greens', alpha=0.6)\n",
    "plt.title(f\"All Refined Masks Overlay (z={z})\")\n",
    "plt.axis('off')\n",
    "plt.show()\n"
   ]
  },
  {
   "cell_type": "code",
   "execution_count": null,
   "metadata": {
    "execution": {
     "iopub.execute_input": "2025-05-22T16:24:20.510053Z",
     "iopub.status.busy": "2025-05-22T16:24:20.509852Z",
     "iopub.status.idle": "2025-05-22T16:24:21.765900Z",
     "shell.execute_reply": "2025-05-22T16:24:21.765336Z",
     "shell.execute_reply.started": "2025-05-22T16:24:20.510037Z"
    },
    "trusted": true
   },
   "outputs": [],
   "source": [
    "import numpy as np\n",
    "import logging\n",
    "from scipy.ndimage import center_of_mass\n",
    "\n",
    "def validate_anatomy(\n",
    "    femur_mask: np.ndarray,\n",
    "    tibia_mask: np.ndarray,\n",
    "    axis: int = 2  # Default: z-axis (axial)\n",
    ") -> tuple[np.ndarray, np.ndarray]:\n",
    "    \"\"\"\n",
    "    Validate femur (superior) and tibia (inferior) label assignment based on centroid along axis.\n",
    "    Swaps masks if detected order is anatomically inconsistent.\n",
    "\n",
    "    Args:\n",
    "        femur_mask (np.ndarray): Binary mask for femur.\n",
    "        tibia_mask (np.ndarray): Binary mask for tibia.\n",
    "        axis (int): Axis for superior-inferior (default: z=2 for axial slices).\n",
    "\n",
    "    Returns:\n",
    "        tuple: (Validated femur mask, validated tibia mask).\n",
    "    \"\"\"\n",
    "    if femur_mask.ndim != 3 or tibia_mask.ndim != 3:\n",
    "        raise ValueError(\"Expected 3D masks\")\n",
    "    \n",
    "    # Compute centroid along the chosen axis\n",
    "    def centroid(mask):\n",
    "        if np.any(mask):\n",
    "            return center_of_mass(mask)[axis]\n",
    "        else:\n",
    "            return None\n",
    "\n",
    "    femur_centroid = centroid(femur_mask)\n",
    "    tibia_centroid = centroid(tibia_mask)\n",
    "    \n",
    "    if femur_centroid is None or tibia_centroid is None:\n",
    "        logging.warning(\"One of the masks is empty; skipping validation.\")\n",
    "        return femur_mask, tibia_mask\n",
    "\n",
    "    # In axial CT, femur (superior) should be higher (larger z)\n",
    "    if femur_centroid < tibia_centroid:\n",
    "        logging.warning(\n",
    "            f\"Femur centroid ({femur_centroid:.1f}) is inferior to tibia centroid ({tibia_centroid:.1f}). Swapping labels!\"\n",
    "        )\n",
    "        return tibia_mask, femur_mask\n",
    "    else:\n",
    "        logging.info(\n",
    "            f\"Femur centroid ({femur_centroid:.1f}) is superior to tibia centroid ({tibia_centroid:.1f}). Labels OK.\"\n",
    "        )\n",
    "        return femur_mask, tibia_mask\n",
    "\n",
    "femur_mask, tibia_mask = validate_anatomy(femur_mask, tibia_mask, axis=2)\n"
   ]
  },
  {
   "cell_type": "code",
   "execution_count": null,
   "metadata": {
    "execution": {
     "iopub.execute_input": "2025-05-22T16:24:21.766839Z",
     "iopub.status.busy": "2025-05-22T16:24:21.766606Z",
     "iopub.status.idle": "2025-05-22T16:24:21.772044Z",
     "shell.execute_reply": "2025-05-22T16:24:21.771327Z",
     "shell.execute_reply.started": "2025-05-22T16:24:21.766814Z"
    },
    "trusted": true
   },
   "outputs": [],
   "source": [
    "import matplotlib.pyplot as plt\n",
    "\n",
    "def display_validated_bone_masks(ct_data, femur_mask, tibia_mask, z=None):\n",
    "    if z is None:\n",
    "        z = ct_data.shape[2] // 2\n",
    "    plt.figure(figsize=(7, 7))\n",
    "    plt.imshow(ct_data[:, :, z], cmap='gray', vmin=-200, vmax=1000)\n",
    "    plt.imshow(femur_mask[:, :, z], cmap='Reds', alpha=0.4, label='Femur')\n",
    "    plt.imshow(tibia_mask[:, :, z], cmap='Blues', alpha=0.4, label='Tibia')\n",
    "    plt.title(f\"Validated Femur (red) and Tibia (blue) Masks (z={z})\")\n",
    "    plt.axis('off')\n",
    "    plt.show()\n"
   ]
  },
  {
   "cell_type": "code",
   "execution_count": null,
   "metadata": {
    "execution": {
     "iopub.execute_input": "2025-05-22T16:24:21.773075Z",
     "iopub.status.busy": "2025-05-22T16:24:21.772841Z",
     "iopub.status.idle": "2025-05-22T16:24:22.005843Z",
     "shell.execute_reply": "2025-05-22T16:24:22.005197Z",
     "shell.execute_reply.started": "2025-05-22T16:24:21.773055Z"
    },
    "trusted": true
   },
   "outputs": [],
   "source": [
    "display_validated_bone_masks(ct_denoised, femur_mask, tibia_mask, z=108)  # Or your favorite slice\n"
   ]
  },
  {
   "cell_type": "code",
   "execution_count": null,
   "metadata": {
    "execution": {
     "iopub.execute_input": "2025-05-22T16:24:22.006656Z",
     "iopub.status.busy": "2025-05-22T16:24:22.006425Z",
     "iopub.status.idle": "2025-05-22T16:24:22.012040Z",
     "shell.execute_reply": "2025-05-22T16:24:22.011270Z",
     "shell.execute_reply.started": "2025-05-22T16:24:22.006640Z"
    },
    "trusted": true
   },
   "outputs": [],
   "source": [
    "def display_all_validated_masks(ct_data, femur_mask, tibia_mask, fibula_mask=None, z=None):\n",
    "    if z is None:\n",
    "        z = ct_data.shape[2] // 2\n",
    "    plt.figure(figsize=(7, 7))\n",
    "    plt.imshow(ct_data[:, :, z], cmap='gray', vmin=-200, vmax=1000)\n",
    "    plt.imshow(femur_mask[:, :, z], cmap='Reds', alpha=0.4)\n",
    "    plt.imshow(tibia_mask[:, :, z], cmap='Blues', alpha=0.4)\n",
    "    if fibula_mask is not None:\n",
    "        plt.imshow(fibula_mask[:, :, z], cmap='Greens', alpha=0.5)\n",
    "    plt.title(f\"Validated Masks: Femur (Red), Tibia (Blue)\" + (\", Fibula (Green)\" if fibula_mask is not None else \"\") + f\" (z={z})\")\n",
    "    plt.axis('off')\n",
    "    plt.show()\n"
   ]
  },
  {
   "cell_type": "code",
   "execution_count": null,
   "metadata": {
    "execution": {
     "iopub.execute_input": "2025-05-22T16:24:22.013337Z",
     "iopub.status.busy": "2025-05-22T16:24:22.012787Z",
     "iopub.status.idle": "2025-05-22T16:24:22.410877Z",
     "shell.execute_reply": "2025-05-22T16:24:22.410149Z",
     "shell.execute_reply.started": "2025-05-22T16:24:22.013320Z"
    },
    "trusted": true
   },
   "outputs": [],
   "source": [
    "display_all_validated_masks(ct_denoised, femur_mask, tibia_mask, fibula_mask, z=108)"
   ]
  },
  {
   "cell_type": "code",
   "execution_count": null,
   "metadata": {
    "execution": {
     "iopub.execute_input": "2025-05-22T16:24:22.411944Z",
     "iopub.status.busy": "2025-05-22T16:24:22.411684Z",
     "iopub.status.idle": "2025-05-22T16:24:24.269923Z",
     "shell.execute_reply": "2025-05-22T16:24:24.269148Z",
     "shell.execute_reply.started": "2025-05-22T16:24:22.411919Z"
    },
    "trusted": true
   },
   "outputs": [],
   "source": [
    "import os\n",
    "import nibabel as nib\n",
    "import numpy as np\n",
    "import logging\n",
    "\n",
    "def save_nifti(mask: np.ndarray, path: str, affine: np.ndarray, header: nib.Nifti1Header) -> None:\n",
    "    \"\"\"\n",
    "    Save (binary or label) mask as .nii.gz file with correct type and header.\n",
    "\n",
    "    Args:\n",
    "        mask (np.ndarray): Binary or label mask to save.\n",
    "        path (str): Output file path.\n",
    "        affine (np.ndarray): Affine matrix from original CT.\n",
    "        header (nib.Nifti1Header): NIfTI header from original CT.\n",
    "\n",
    "    Raises:\n",
    "        RuntimeError: If saving fails.\n",
    "    \"\"\"\n",
    "    try:\n",
    "        # Ensure output is uint8 for masks (saves space and is standard)\n",
    "        mask_uint8 = mask.astype(np.uint8)\n",
    "        # Optionally fix datatype in header (avoids warnings in ITK, 3D Slicer, etc.)\n",
    "        new_header = header.copy()\n",
    "        new_header.set_data_dtype(np.uint8)\n",
    "        # Make sure output directory exists\n",
    "        os.makedirs(os.path.dirname(path), exist_ok=True)\n",
    "        # Save\n",
    "        nifti_img = nib.Nifti1Image(mask_uint8, affine, new_header)\n",
    "        nib.save(nifti_img, path)\n",
    "        logging.info(f\"Saved mask as NIfTI: {path} (shape: {mask.shape}, dtype: uint8)\")\n",
    "    except Exception as e:\n",
    "        logging.error(f\"Failed to save mask: {e}\")\n",
    "        raise RuntimeError(f\"Error saving mask to {path}\")\n",
    "\n",
    "# Example usage:\n",
    "save_nifti(femur_mask, os.path.join(RESULTS_DIR, 'femur_mask.nii.gz'), affine, header)\n",
    "save_nifti(tibia_mask, os.path.join(RESULTS_DIR, 'tibia_mask.nii.gz'), affine, header)\n",
    "save_nifti(fibula_mask, os.path.join(RESULTS_DIR, 'fibula_mask.nii.gz'), affine, header)\n"
   ]
  },
  {
   "cell_type": "code",
   "execution_count": null,
   "metadata": {
    "execution": {
     "iopub.execute_input": "2025-05-22T16:24:24.271042Z",
     "iopub.status.busy": "2025-05-22T16:24:24.270818Z",
     "iopub.status.idle": "2025-05-22T16:24:28.333728Z",
     "shell.execute_reply": "2025-05-22T16:24:28.332935Z",
     "shell.execute_reply.started": "2025-05-22T16:24:24.271026Z"
    },
    "trusted": true
   },
   "outputs": [],
   "source": [
    "import matplotlib.pyplot as plt\n",
    "import numpy as np\n",
    "import os\n",
    "from skimage.filters import threshold_otsu\n",
    "\n",
    "def find_nonzero_slice(mask, axis=2):\n",
    "    \"\"\"Find first slice along given axis with nonzero mask.\"\"\"\n",
    "    for z in range(mask.shape[axis]):\n",
    "        if np.sum(mask.take(z, axis=axis)) > 0:\n",
    "            return z\n",
    "    return None\n",
    "\n",
    "def visualize_results(\n",
    "    ct_data: np.ndarray,\n",
    "    femur_mask: np.ndarray,\n",
    "    tibia_mask: np.ndarray,\n",
    "    fibula_mask: np.ndarray = None,\n",
    "    slice_idx: int = None,\n",
    "    otsu_factor: float = 0.9\n",
    ") -> None:\n",
    "    \"\"\"\n",
    "    Visualize CT slice, femur/tibia(/fibula) masks, and intensity histogram.\n",
    "    If tibia (or fibula) not present at slice_idx, finds a slice where they are present.\n",
    "    \"\"\"\n",
    "    if ct_data.ndim != 3 or femur_mask.ndim != 3 or tibia_mask.ndim != 3:\n",
    "        raise ValueError(\"Expected 3D inputs\")\n",
    "    if slice_idx is None:\n",
    "        slice_idx = ct_data.shape[2] // 2\n",
    "\n",
    "    # --- Find a slice where tibia and/or fibula are visible if not present in this slice\n",
    "    if np.sum(tibia_mask[:, :, slice_idx]) == 0:\n",
    "        alt_tibia_slice = find_nonzero_slice(tibia_mask)\n",
    "        if alt_tibia_slice is not None:\n",
    "            print(f\"Tibia not present at z={slice_idx}. Showing z={alt_tibia_slice} where tibia appears.\")\n",
    "            slice_idx = alt_tibia_slice\n",
    "    if fibula_mask is not None and np.sum(fibula_mask[:, :, slice_idx]) == 0:\n",
    "        alt_fibula_slice = find_nonzero_slice(fibula_mask)\n",
    "        if alt_fibula_slice is not None:\n",
    "            print(f\"Fibula not present at z={slice_idx}. Showing z={alt_fibula_slice} where fibula appears.\")\n",
    "            slice_idx = alt_fibula_slice\n",
    "\n",
    "    plt.figure(figsize=(16, 10))\n",
    "\n",
    "    # 1. CT slice\n",
    "    plt.subplot(2, 2, 1)\n",
    "    plt.imshow(ct_data[:, :, slice_idx], cmap='gray', vmin=-200, vmax=1000)\n",
    "    plt.title(f\"CT Slice (z={slice_idx})\")\n",
    "    plt.axis('off')\n",
    "\n",
    "    # 2. Femur mask overlay\n",
    "    plt.subplot(2, 2, 2)\n",
    "    plt.imshow(ct_data[:, :, slice_idx], cmap='gray', vmin=-200, vmax=1000)\n",
    "    plt.imshow(femur_mask[:, :, slice_idx], cmap='Reds', alpha=0.45)\n",
    "    plt.title(\"Femur Mask Overlay\")\n",
    "    plt.axis('off')\n",
    "\n",
    "    # 3. Tibia (+fibula) mask overlay\n",
    "    plt.subplot(2, 2, 3)\n",
    "    plt.imshow(ct_data[:, :, slice_idx], cmap='gray', vmin=-200, vmax=1000)\n",
    "    tibia_present = np.sum(tibia_mask[:, :, slice_idx]) > 0\n",
    "    if tibia_present:\n",
    "        plt.imshow(tibia_mask[:, :, slice_idx], cmap='Blues', alpha=0.65)\n",
    "    fibula_present = fibula_mask is not None and np.sum(fibula_mask[:, :, slice_idx]) > 0\n",
    "    if fibula_present:\n",
    "        plt.imshow(fibula_mask[:, :, slice_idx], cmap='Greens', alpha=0.65)\n",
    "    if tibia_present and fibula_present:\n",
    "        plt.title(\"Tibia (blue) + Fibula (green) Mask Overlay\")\n",
    "    elif tibia_present:\n",
    "        plt.title(\"Tibia Mask Overlay\")\n",
    "    elif fibula_present:\n",
    "        plt.title(\"Fibula Mask Overlay\")\n",
    "    else:\n",
    "        plt.title(\"No Tibia/Fibula in this slice\")\n",
    "    plt.axis('off')\n",
    "\n",
    "    # 4. Intensity histogram\n",
    "    plt.subplot(2, 2, 4)\n",
    "    data_flat = ct_data[ct_data > -1000].ravel()\n",
    "    plt.hist(data_flat, bins=100, range=(np.percentile(data_flat, 1), np.percentile(data_flat, 99)), density=True, color='gray')\n",
    "    otsu_val = threshold_otsu(ct_data)\n",
    "    plt.axvline(otsu_val, color='orange', linestyle='--', label='Otsu')\n",
    "    plt.axvline(otsu_val * otsu_factor, color='red', linestyle='--', label='Applied Threshold')\n",
    "    plt.title(\"CT Intensity Histogram\")\n",
    "    plt.xlabel(\"Hounsfield Units (HU)\")\n",
    "    plt.ylabel(\"Density\")\n",
    "    plt.legend()\n",
    "\n",
    "    plt.tight_layout()\n",
    "    output_path = os.path.join(RESULTS_DIR, 'segmentation_preview.png')\n",
    "    plt.savefig(output_path)\n",
    "    logging.info(f\"Saved visualization: {output_path}\")\n",
    "    plt.show()\n",
    "\n",
    "visualize_results(\n",
    "    ct_processed, \n",
    "    femur_mask, \n",
    "    tibia_mask, \n",
    "    fibula_mask if 'fibula_mask' in locals() else None, \n",
    "    slice_idx=108\n",
    ")\n"
   ]
  },
  {
   "cell_type": "code",
   "execution_count": null,
   "metadata": {
    "execution": {
     "iopub.execute_input": "2025-05-22T16:24:28.334813Z",
     "iopub.status.busy": "2025-05-22T16:24:28.334567Z",
     "iopub.status.idle": "2025-05-22T16:24:28.342982Z",
     "shell.execute_reply": "2025-05-22T16:24:28.342322Z",
     "shell.execute_reply.started": "2025-05-22T16:24:28.334796Z"
    },
    "trusted": true
   },
   "outputs": [],
   "source": [
    "def verify_outputs(femur_mask=None, tibia_mask=None, fibula_mask=None) -> None:\n",
    "    \"\"\"\n",
    "    Verify that output files exist and masks are valid.\n",
    "\n",
    "    Raises:\n",
    "        FileNotFoundError: If output files are missing.\n",
    "        ValueError: If masks overlap or are empty.\n",
    "    \"\"\"\n",
    "    # Paths\n",
    "    femur_path = os.path.join(RESULTS_DIR, 'femur_mask.nii.gz')\n",
    "    tibia_path = os.path.join(RESULTS_DIR, 'tibia_mask.nii.gz')\n",
    "    viz_path = os.path.join(RESULTS_DIR, 'segmentation_preview.png')\n",
    "    paths = [femur_path, tibia_path, viz_path]\n",
    "    if fibula_mask is not None:\n",
    "        fibula_path = os.path.join(RESULTS_DIR, 'fibula_mask.nii.gz')\n",
    "        paths.append(fibula_path)\n",
    "    \n",
    "    # Check file existence\n",
    "    for path in paths:\n",
    "        if not os.path.exists(path):\n",
    "            msg = f\"Output missing: {path}\"\n",
    "            print(msg)\n",
    "            logging.error(msg)\n",
    "            raise FileNotFoundError(msg)\n",
    "        else:\n",
    "            print(f\"File exists: {path}\")\n",
    "\n",
    "    # Check mask validity (if masks are passed in)\n",
    "    if femur_mask is not None and tibia_mask is not None:\n",
    "        overlap = np.sum((femur_mask > 0) & (tibia_mask > 0))\n",
    "        if overlap > 0:\n",
    "            msg = f\"Femur and tibia masks overlap in {overlap} voxels\"\n",
    "            print(msg)\n",
    "            raise ValueError(msg)\n",
    "        femur_voxels = np.sum(femur_mask)\n",
    "        tibia_voxels = np.sum(tibia_mask)\n",
    "        if femur_voxels < 1000 or tibia_voxels < 1000:\n",
    "            msg = f\"Masks may be too small; femur: {femur_voxels}, tibia: {tibia_voxels}\"\n",
    "            print(msg)\n",
    "            logging.warning(msg)\n",
    "        else:\n",
    "            print(f\"Femur mask voxels: {femur_voxels}, Tibia mask voxels: {tibia_voxels}\")\n",
    "\n",
    "    if fibula_mask is not None:\n",
    "        # Check fibula mask for overlap and size\n",
    "        if np.sum((fibula_mask > 0) & (femur_mask > 0)):\n",
    "            msg = \"Femur and fibula masks overlap\"\n",
    "            print(msg)\n",
    "            raise ValueError(msg)\n",
    "        if np.sum((fibula_mask > 0) & (tibia_mask > 0)):\n",
    "            msg = \"Tibia and fibula masks overlap\"\n",
    "            print(msg)\n",
    "            raise ValueError(msg)\n",
    "        fibula_voxels = np.sum(fibula_mask)\n",
    "        if fibula_voxels > 0 and fibula_voxels < 200:\n",
    "            msg = f\"Fibula mask is present but very small ({fibula_voxels} voxels)\"\n",
    "            print(msg)\n",
    "            logging.warning(msg)\n",
    "        else:\n",
    "            print(f\"Fibula mask voxels: {fibula_voxels}\")\n",
    "\n",
    "    msg = \"Output verification passed.\"\n",
    "    print(msg)\n",
    "    logging.info(msg)\n"
   ]
  },
  {
   "cell_type": "code",
   "execution_count": null,
   "metadata": {
    "execution": {
     "iopub.execute_input": "2025-05-22T16:24:28.343944Z",
     "iopub.status.busy": "2025-05-22T16:24:28.343712Z",
     "iopub.status.idle": "2025-05-22T16:24:28.774189Z",
     "shell.execute_reply": "2025-05-22T16:24:28.773583Z",
     "shell.execute_reply.started": "2025-05-22T16:24:28.343930Z"
    },
    "trusted": true
   },
   "outputs": [],
   "source": [
    "verify_outputs(femur_mask=femur_mask, tibia_mask=tibia_mask, fibula_mask=fibula_mask if 'fibula_mask' in locals() else None)\n"
   ]
  },
  {
   "cell_type": "markdown",
   "metadata": {},
   "source": [
    "## Post-Processing and Analysis\n",
    "This section implements advanced post-processing steps to enhance the segmented masks and extract anatomical landmarks.\n",
    "\n",
    "### Mask Expansion\n",
    "The `expand_mask` function performs controlled expansion of bone masks:\n",
    "- Expands masks by a specified distance in millimeters (default: 2mm)\n",
    "- Accounts for anisotropic voxel sizes from the CT header\n",
    "- Uses morphological dilation with configurable connectivity\n",
    "- Preserves mask topology and prevents overlap between bones\n",
    "- Useful for creating safety margins or analyzing bone boundaries\n",
    "\n",
    "### Randomized Mask Generation\n",
    "The `randomize_mask` function creates variations of expanded masks:\n",
    "- Randomly selects voxels from the expansion band\n",
    "- Controls the degree of randomization with a fraction parameter (0-1)\n",
    "- Useful for generating training data or testing robustness\n",
    "- Maintains anatomical validity while introducing controlled variation\n",
    "- Helps assess the impact of segmentation uncertainty\n",
    "\n",
    "### Landmark Detection\n",
    "The `find_landmarks` function identifies key anatomical points:\n",
    "- Detects medial and lateral lowest points of bones\n",
    "- Converts voxel coordinates to real-world space using affine transformation\n",
    "- Useful for measurements and surgical planning\n",
    "- Provides consistent landmark detection across different mask variations\n",
    "- Enables quantitative analysis of bone morphology\n",
    "\n",
    "This section is crucial for preparing the segmented masks for downstream applications and analysis, ensuring both accuracy and robustness in the results."
   ]
  },
  {
   "cell_type": "code",
   "execution_count": null,
   "metadata": {
    "execution": {
     "iopub.execute_input": "2025-05-22T16:24:28.775065Z",
     "iopub.status.busy": "2025-05-22T16:24:28.774893Z",
     "iopub.status.idle": "2025-05-22T16:24:38.732213Z",
     "shell.execute_reply": "2025-05-22T16:24:38.731654Z",
     "shell.execute_reply.started": "2025-05-22T16:24:28.775052Z"
    },
    "trusted": true
   },
   "outputs": [],
   "source": [
    "from scipy.ndimage import binary_dilation\n",
    "\n",
    "def expand_mask(mask: np.ndarray, voxel_sizes: tuple, expand_mm: float = 2.0, connectivity: int = 1) -> np.ndarray:\n",
    "    \"\"\"\n",
    "    Expand a binary mask outward by a given number of millimeters.\n",
    "\n",
    "    Args:\n",
    "        mask (np.ndarray): Binary mask (3D).\n",
    "        voxel_sizes (tuple): Voxel size in mm, from CT header (z, y, x).\n",
    "        expand_mm (float): Expansion distance in mm.\n",
    "        connectivity (int): Structuring element connectivity for dilation (1=6-connected, 2=18, 3=26).\n",
    "\n",
    "    Returns:\n",
    "        np.ndarray: Expanded binary mask (uint8).\n",
    "    \"\"\"\n",
    "    if mask.ndim != 3:\n",
    "        raise ValueError(\"Expected 3D mask\")\n",
    "    # Calculate expansion in voxels for each dimension\n",
    "    # Note: voxel_sizes = (z, y, x) as from header.get_zooms()\n",
    "    z_mm, y_mm, x_mm = voxel_sizes\n",
    "    # Take the minimum voxel size for isotropic dilation (safe approach)\n",
    "    min_voxel = min(z_mm, y_mm, x_mm)\n",
    "    n_iter = int(np.ceil(expand_mm / min_voxel))\n",
    "    print(f\"Expanding mask by {expand_mm}mm ≈ {n_iter} voxel iterations (voxel size: {voxel_sizes})\")\n",
    "\n",
    "    # Build structuring element (cube by default)\n",
    "    struct = np.ones((3, 3, 3), dtype=np.uint8) if connectivity == 1 else None\n",
    "\n",
    "    expanded = binary_dilation(mask, structure=struct, iterations=n_iter).astype(np.uint8)\n",
    "    return expanded\n",
    "\n",
    "# Example usage:\n",
    "voxel_sizes = header.get_zooms()  # (z, y, x) or (x, y, z) depending on orientation—check nibabel\n",
    "expand_mm = 2.0\n",
    "\n",
    "# For femur:\n",
    "femur_mask_expanded = expand_mask(femur_mask, voxel_sizes, expand_mm=expand_mm)\n",
    "# For tibia:\n",
    "tibia_mask_expanded = expand_mask(tibia_mask, voxel_sizes, expand_mm=expand_mm)\n",
    "# For fibula (if needed):\n",
    "fibula_mask_expanded = expand_mask(fibula_mask, voxel_sizes, expand_mm=expand_mm)\n"
   ]
  },
  {
   "cell_type": "code",
   "execution_count": null,
   "metadata": {
    "execution": {
     "iopub.execute_input": "2025-05-22T16:24:38.733049Z",
     "iopub.status.busy": "2025-05-22T16:24:38.732872Z",
     "iopub.status.idle": "2025-05-22T16:24:38.881879Z",
     "shell.execute_reply": "2025-05-22T16:24:38.881107Z",
     "shell.execute_reply.started": "2025-05-22T16:24:38.733035Z"
    },
    "trusted": true
   },
   "outputs": [],
   "source": [
    "display_refined_mask(ct_denoised, femur_mask_expanded, title='Femur Mask Expanded', color='Oranges')"
   ]
  },
  {
   "cell_type": "code",
   "execution_count": null,
   "metadata": {
    "execution": {
     "iopub.execute_input": "2025-05-22T16:24:38.882972Z",
     "iopub.status.busy": "2025-05-22T16:24:38.882672Z",
     "iopub.status.idle": "2025-05-22T16:24:39.115351Z",
     "shell.execute_reply": "2025-05-22T16:24:39.114773Z",
     "shell.execute_reply.started": "2025-05-22T16:24:38.882949Z"
    },
    "trusted": true
   },
   "outputs": [],
   "source": [
    "# Example: set slice_idx to the middle slice in z-direction\n",
    "slice_idx = ct_denoised.shape[2] // 2\n",
    "\n",
    "plt.figure(figsize=(7, 7))\n",
    "plt.imshow(ct_denoised[:, :, slice_idx], cmap='gray', vmin=-200, vmax=1000)\n",
    "plt.imshow(femur_mask[:, :, slice_idx], cmap='Reds', alpha=0.3, label='Original')\n",
    "plt.imshow(femur_mask_expanded[:, :, slice_idx], cmap='Oranges', alpha=0.3, label='Expanded')\n",
    "plt.title(f\"Femur Mask: Original (red) vs Expanded (orange) at z={slice_idx}\")\n",
    "plt.axis('off')\n",
    "plt.show()\n"
   ]
  },
  {
   "cell_type": "code",
   "execution_count": null,
   "metadata": {
    "execution": {
     "iopub.execute_input": "2025-05-22T16:24:39.116194Z",
     "iopub.status.busy": "2025-05-22T16:24:39.115990Z",
     "iopub.status.idle": "2025-05-22T16:24:41.002553Z",
     "shell.execute_reply": "2025-05-22T16:24:41.001793Z",
     "shell.execute_reply.started": "2025-05-22T16:24:39.116179Z"
    },
    "trusted": true
   },
   "outputs": [],
   "source": [
    "# Save expanded masks if needed\n",
    "save_nifti(femur_mask_expanded, os.path.join(RESULTS_DIR, 'femur_mask_expanded.nii.gz'), affine, header)\n",
    "save_nifti(tibia_mask_expanded, os.path.join(RESULTS_DIR, 'tibia_mask_expanded.nii.gz'), affine, header)\n",
    "if fibula_mask is not None:\n",
    "    save_nifti(fibula_mask_expanded, os.path.join(RESULTS_DIR, 'fibula_mask_expanded.nii.gz'), affine, header)\n"
   ]
  },
  {
   "cell_type": "code",
   "execution_count": null,
   "metadata": {
    "execution": {
     "iopub.execute_input": "2025-05-22T16:24:41.003494Z",
     "iopub.status.busy": "2025-05-22T16:24:41.003268Z",
     "iopub.status.idle": "2025-05-22T16:24:41.231483Z",
     "shell.execute_reply": "2025-05-22T16:24:41.230668Z",
     "shell.execute_reply.started": "2025-05-22T16:24:41.003478Z"
    },
    "trusted": true
   },
   "outputs": [],
   "source": [
    "plt.figure(figsize=(7, 7))\n",
    "plt.imshow(ct_denoised[:, :, slice_idx], cmap='gray', vmin=-200, vmax=1000)\n",
    "plt.imshow(tibia_mask[:, :, slice_idx], cmap='Blues', alpha=0.3)\n",
    "plt.imshow(tibia_mask_expanded[:, :, slice_idx], cmap='Oranges', alpha=0.3)\n",
    "plt.title(f\"Tibia Mask: Original (blue) vs Expanded (orange) at z={slice_idx}\")\n",
    "plt.axis('off')\n",
    "plt.show()"
   ]
  },
  {
   "cell_type": "code",
   "execution_count": null,
   "metadata": {
    "execution": {
     "iopub.execute_input": "2025-05-22T16:24:41.232817Z",
     "iopub.status.busy": "2025-05-22T16:24:41.232294Z",
     "iopub.status.idle": "2025-05-22T16:24:41.238052Z",
     "shell.execute_reply": "2025-05-22T16:24:41.237396Z",
     "shell.execute_reply.started": "2025-05-22T16:24:41.232796Z"
    },
    "trusted": true
   },
   "outputs": [],
   "source": [
    "import numpy as np\n",
    "\n",
    "def randomize_mask(original_mask, expanded_mask, random_fraction=0.5, seed=None):\n",
    "    \"\"\"\n",
    "    Randomizes the mask contour between original and expanded mask.\n",
    "\n",
    "    Args:\n",
    "        original_mask (np.ndarray): Binary mask (uint8), original.\n",
    "        expanded_mask (np.ndarray): Binary mask (uint8), expanded.\n",
    "        random_fraction (float): Fraction of the \"band\" to add [0..1].\n",
    "        seed (int, optional): Random seed for reproducibility.\n",
    "\n",
    "    Returns:\n",
    "        np.ndarray: Randomized mask (uint8).\n",
    "    \"\"\"\n",
    "    assert original_mask.shape == expanded_mask.shape, \"Shape mismatch\"\n",
    "    rng = np.random.default_rng(seed)\n",
    "    \n",
    "    # Find band region\n",
    "    band = (expanded_mask.astype(np.uint8) - original_mask.astype(np.uint8)) > 0\n",
    "\n",
    "    # Indices of all band voxels\n",
    "    band_indices = np.array(np.where(band)).T\n",
    "\n",
    "    # How many to sample?\n",
    "    n_band_voxels = len(band_indices)\n",
    "    n_to_sample = int(n_band_voxels * random_fraction)\n",
    "\n",
    "    # Randomly pick some indices\n",
    "    selected = np.zeros(band.shape, dtype=bool)\n",
    "    if n_to_sample > 0:\n",
    "        chosen_idx = rng.choice(n_band_voxels, n_to_sample, replace=False)\n",
    "        selected_voxels = band_indices[chosen_idx]\n",
    "        selected[tuple(selected_voxels.T)] = True\n",
    "\n",
    "    # Combine with original\n",
    "    randomized_mask = (original_mask | selected).astype(np.uint8)\n",
    "    return randomized_mask\n"
   ]
  },
  {
   "cell_type": "code",
   "execution_count": null,
   "metadata": {
    "execution": {
     "iopub.execute_input": "2025-05-22T16:24:41.239112Z",
     "iopub.status.busy": "2025-05-22T16:24:41.238801Z",
     "iopub.status.idle": "2025-05-22T16:24:41.600308Z",
     "shell.execute_reply": "2025-05-22T16:24:41.599580Z",
     "shell.execute_reply.started": "2025-05-22T16:24:41.239090Z"
    },
    "trusted": true
   },
   "outputs": [],
   "source": [
    "random_fraction = 0.3   # [0 = no change, 1 = full expansion]\n",
    "randomized_femur_mask = randomize_mask(femur_mask, femur_mask_expanded, random_fraction=random_fraction, seed=42)\n"
   ]
  },
  {
   "cell_type": "code",
   "execution_count": null,
   "metadata": {
    "execution": {
     "iopub.execute_input": "2025-05-22T16:24:41.601319Z",
     "iopub.status.busy": "2025-05-22T16:24:41.601107Z",
     "iopub.status.idle": "2025-05-22T16:24:41.880732Z",
     "shell.execute_reply": "2025-05-22T16:24:41.880021Z",
     "shell.execute_reply.started": "2025-05-22T16:24:41.601305Z"
    },
    "trusted": true
   },
   "outputs": [],
   "source": [
    "plt.figure(figsize=(7, 7))\n",
    "plt.imshow(ct_denoised[:, :, slice_idx], cmap='gray', vmin=-200, vmax=1000)\n",
    "plt.imshow(femur_mask[:, :, slice_idx], cmap='Reds', alpha=0.25, label='Original')\n",
    "plt.imshow(femur_mask_expanded[:, :, slice_idx], cmap='Oranges', alpha=0.25, label='Expanded')\n",
    "plt.imshow(randomized_femur_mask[:, :, slice_idx], cmap='Greens', alpha=0.4, label='Randomized')\n",
    "plt.title(f\"Femur: Red=Original, Orange=2mm, Green=Randomized at z={slice_idx}\")\n",
    "plt.axis('off')\n",
    "plt.show()\n"
   ]
  },
  {
   "cell_type": "code",
   "execution_count": null,
   "metadata": {
    "execution": {
     "iopub.execute_input": "2025-05-22T16:24:41.881757Z",
     "iopub.status.busy": "2025-05-22T16:24:41.881496Z",
     "iopub.status.idle": "2025-05-22T16:24:42.524790Z",
     "shell.execute_reply": "2025-05-22T16:24:42.523995Z",
     "shell.execute_reply.started": "2025-05-22T16:24:41.881736Z"
    },
    "trusted": true
   },
   "outputs": [],
   "source": [
    "save_nifti(randomized_femur_mask, os.path.join(RESULTS_DIR, 'randomized_femur_mask.nii.gz'), affine, header)\n"
   ]
  },
  {
   "cell_type": "code",
   "execution_count": null,
   "metadata": {
    "execution": {
     "iopub.execute_input": "2025-05-22T16:24:42.525938Z",
     "iopub.status.busy": "2025-05-22T16:24:42.525672Z",
     "iopub.status.idle": "2025-05-22T16:24:45.706817Z",
     "shell.execute_reply": "2025-05-22T16:24:45.706049Z",
     "shell.execute_reply.started": "2025-05-22T16:24:42.525912Z"
    },
    "trusted": true
   },
   "outputs": [],
   "source": [
    "from scipy.ndimage import binary_dilation\n",
    "import nibabel as nib\n",
    "\n",
    "# 1. Original Mask\n",
    "original_mask = tibia_mask.astype(np.uint8)\n",
    "\n",
    "# 2. 2mm Expanded Mask\n",
    "voxel_size = header.get_zooms()[0]  # assume isotropic or use mean(header.get_zooms())\n",
    "n_iter_2mm = int(np.ceil(2 / voxel_size))\n",
    "mask_2mm = binary_dilation(original_mask, iterations=n_iter_2mm).astype(np.uint8)\n",
    "\n",
    "# 3. 4mm Expanded Mask\n",
    "n_iter_4mm = int(np.ceil(4 / voxel_size))\n",
    "mask_4mm = binary_dilation(original_mask, iterations=n_iter_4mm).astype(np.uint8)\n",
    "\n",
    "# 4. Randomized Mask 1 (from 4mm)\n",
    "rand_mask_1 = randomize_mask(original_mask, mask_4mm, random_fraction=0.4, seed=10)\n",
    "\n",
    "# 5. Randomized Mask 2 (from 4mm)\n",
    "rand_mask_2 = randomize_mask(original_mask, mask_4mm, random_fraction=0.7, seed=20)\n"
   ]
  },
  {
   "cell_type": "code",
   "execution_count": null,
   "metadata": {
    "execution": {
     "iopub.execute_input": "2025-05-22T16:24:45.707841Z",
     "iopub.status.busy": "2025-05-22T16:24:45.707653Z",
     "iopub.status.idle": "2025-05-22T16:24:51.353913Z",
     "shell.execute_reply": "2025-05-22T16:24:51.353232Z",
     "shell.execute_reply.started": "2025-05-22T16:24:45.707827Z"
    },
    "trusted": true
   },
   "outputs": [],
   "source": [
    "import os\n",
    "\n",
    "output_dir = RESULTS_DIR  # or any output path\n",
    "nib.save(nib.Nifti1Image(original_mask, affine, header), os.path.join(output_dir, 'tibia_original.nii.gz'))\n",
    "nib.save(nib.Nifti1Image(mask_2mm, affine, header), os.path.join(output_dir, 'tibia_2mm.nii.gz'))\n",
    "nib.save(nib.Nifti1Image(mask_4mm, affine, header), os.path.join(output_dir, 'tibia_4mm.nii.gz'))\n",
    "nib.save(nib.Nifti1Image(rand_mask_1, affine, header), os.path.join(output_dir, 'tibia_rand1.nii.gz'))\n",
    "nib.save(nib.Nifti1Image(rand_mask_2, affine, header), os.path.join(output_dir, 'tibia_rand2.nii.gz'))\n"
   ]
  },
  {
   "cell_type": "code",
   "execution_count": null,
   "metadata": {
    "execution": {
     "iopub.execute_input": "2025-05-22T16:24:51.354977Z",
     "iopub.status.busy": "2025-05-22T16:24:51.354684Z",
     "iopub.status.idle": "2025-05-22T16:24:52.346926Z",
     "shell.execute_reply": "2025-05-22T16:24:52.346412Z",
     "shell.execute_reply.started": "2025-05-22T16:24:51.354952Z"
    },
    "trusted": true
   },
   "outputs": [],
   "source": [
    "def find_landmarks(mask, affine):\n",
    "    \"\"\"\n",
    "    Finds medial and lateral lowest points (real world coordinates) for a given mask.\n",
    "    \"\"\"\n",
    "    coords = np.array(np.where(mask > 0)).T  # N x 3: (x, y, z)\n",
    "    if coords.size == 0:\n",
    "        return None, None\n",
    "    min_z = coords[:, 2].min()\n",
    "    lowest = coords[coords[:, 2] == min_z]   # All points at lowest slice\n",
    "    # Medial (min X) and Lateral (max X)\n",
    "    medial_idx = lowest[np.argmin(lowest[:, 0])]\n",
    "    lateral_idx = lowest[np.argmax(lowest[:, 0])]\n",
    "    # Convert voxel to world coordinates\n",
    "    medial_world = nib.affines.apply_affine(affine, medial_idx)\n",
    "    lateral_world = nib.affines.apply_affine(affine, lateral_idx)\n",
    "    return medial_world, lateral_world\n",
    "\n",
    "# Collect for all 5 masks:\n",
    "results = {}\n",
    "for label, mask in zip(\n",
    "    ['original', '2mm', '4mm', 'rand1', 'rand2'],\n",
    "    [original_mask, mask_2mm, mask_4mm, rand_mask_1, rand_mask_2]\n",
    "):\n",
    "    medial, lateral = find_landmarks(mask, affine)\n",
    "    results[label] = {'medial': medial, 'lateral': lateral}\n",
    "\n",
    "import pandas as pd\n",
    "landmark_df = pd.DataFrame.from_dict(results, orient='index')\n",
    "display(landmark_df)\n"
   ]
  }
 ],
 "metadata": {
  "kaggle": {
   "accelerator": "gpu",
   "dataSources": [
    {
     "datasetId": 7420593,
     "sourceId": 11814423,
     "sourceType": "datasetVersion"
    }
   ],
   "dockerImageVersionId": 31041,
   "isGpuEnabled": true,
   "isInternetEnabled": true,
   "language": "python",
   "sourceType": "notebook"
  },
  "kernelspec": {
   "display_name": "Python 3",
   "language": "python",
   "name": "python3"
  },
  "language_info": {
   "codemirror_mode": {
    "name": "ipython",
    "version": 3
   },
   "file_extension": ".py",
   "mimetype": "text/x-python",
   "name": "python",
   "nbconvert_exporter": "python",
   "pygments_lexer": "ipython3",
   "version": "3.11.11"
  }
 },
 "nbformat": 4,
 "nbformat_minor": 4
}
